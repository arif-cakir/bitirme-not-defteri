{
 "cells": [
  {
   "attachments": {},
   "cell_type": "markdown",
   "metadata": {},
   "source": [
    "# [KDNUGGETS](https://www.kdnuggets.com/2021/11/guide-word-embedding-techniques-nlp.html)<br>\n",
    "### TF-IDF — Term Frequency-Inverse Document Frequency: \n",
    "The text can be in the form of a document or various documents (corpus). It is a combination of two metrics: Term Frequency (TF) and Inverse Document Frequency (IDF).<br><br>\n",
    "TF counts number of the words in the document. Where i is occurance of a word, j is the words in the document TF can be shown as following:\n",
    "$$TF(i) =   \\frac{\\log(Frequency(i,j))}{\\log(TotalNumber(j))}$$\n",
    "<br><br>\n",
    "IDF is rarity of the words. Words that are rarely used in the corpus may hold significant information. Where d is documents and i is occurance of a word, IDF can be showed as following:\n",
    "\n",
    "$$IDF (i) = \\log (\\frac{TotalNumber(d)}{Frequency(d,i)})$$\n",
    "\n",
    "### Word2Vec:\n",
    "Word2Vec uses cosine similarity metric. If the cosine angle is 0 and cosine value is 1, that means words are overlapping. If the cosine angle is 90 and cosine value is 0, that means words are independent or hold no contextual similarity. Word2Vec offers two neural network-based variants: Continuous Bag of Words (CBOW) and Skip-gram.\n",
    "\n",
    "In CBOW, the neural network model takes various words as input and predicts the target word that is closely related to the context of the input words. On the other hand, the Skip-gram architecture takes one word as input and predicts its closely related context words.\n",
    "\n",
    "Skip-gram <br>\n",
    "\n",
    "$$ P (w_o | w_c) = \\frac{e^{u_o^\\intercal v_c}}{\\sum e^{u_i^\\intercal v_c}}$$\n",
    "\n",
    "<br>\n",
    "Word2Vec only captures the local context of words \n",
    "\n",
    "![CBOW vs Skip-gram](https://www.kdnuggets.com/wp-content/uploads/nlp-cbow-skip-gram.jpg)\n",
    "\n",
    "Although one-hot word vectors are easy to construct, they are usually not a good choice. A main reason is that one-hot word vectors cannot accurately express the similarity between different words, such as the cosine similarity that we often use. \n",
    "\n",
    "\n",
    "### GloVe — Global Vectors for Word Representation\n",
    "GloVe considers the entire corpus and creates a large matrix that can capture the co-occurrence of words within the corpus. GloVe combines two-word vector learning methods: matrix factorization and local context window method. GloVe technique has a simpler least square cost or error function that reduces the computational cost of training the model. The resulting word embeddings are different and improved.\n",
    "\n",
    "![GloVe](https://www.kdnuggets.com/wp-content/uploads/nlp-glove-embedding-example.jpg)\n",
    "\n",
    "\n",
    "### BERT — Bidirectional Encoder Representations from Transformers\n",
    "BERT-Base has 110 million parameters, and BERT-Large has 340 million parameters. During the training process, embeddings are refined by passing through each BERT encoder layer. For each word, the attention mechanism captures word associations based on the words on the left and the words on the right. Word embeddings are also positionally encoded to keep track of the pattern or position of each word in a sentence. Google search engine uses BERT.\n",
    "\n",
    "BERT further improved the state of the art on eleven natural language processing tasks under broad categories of (i) single text classification (e.g., sentiment analysis), (ii) text pair classification (e.g., natural language inference), (iii) question answering, (iv) text tagging (e.g., named entity recognition). All proposed in 2018, from context-sensitive ELMo to task-agnostic GPT and BERT, conceptually simple yet empirically powerful pretraining of deep representations for natural languages have revolutionized solutions to various natural language processing tasks.\n"
   ]
  },
  {
   "attachments": {},
   "cell_type": "markdown",
   "metadata": {},
   "source": [
    "Masked Language Modeling\n",
    "a language model predicts a token using the context on its left. To encode context bidirectionally for representing each token, BERT randomly masks tokens and uses tokens from the bidirectional context to predict the masked tokens in a self-supervised fashion. This task is referred to as a masked language model.\n",
    "\n",
    "- a special “mask” token for 80% of the time (e.g., “this movie is great” becomes “this movie is mask”);\n",
    "- a random token for 10% of the time (e.g., “this movie is great” becomes “this movie is drink”);\n",
    "- the unchanged label token for 10% of the time (e.g., “this movie is great” becomes “this movie is great”).\n",
    "\n",
    "Note that for 10% of 15% time a random token is inserted. This occasional noise encourages BERT to be less biased towards the masked token (especially when the label token remains unchanged) in its bidirectional context encoding.\n",
    "\n",
    "Next Sentence Prediction\n",
    "Although masked language modeling is able to encode bidirectional context for representing words, it does not explicitly model the logical relationship between text pairs. To help understand the relationship between two text sequences, BERT considers a binary classification task, next sentence prediction, in its pretraining. When generating sentence pairs for pretraining, for half of the time they are indeed consecutive sentences with the label “True”; while for the other half of the time the second sentence is randomly sampled from the corpus with the label “False”."
   ]
  },
  {
   "attachments": {},
   "cell_type": "markdown",
   "metadata": {},
   "source": [
    "# Hierarchial Softmax\n",
    "\n",
    "![image.png](https://d2l.ai/_images/hi-softmax.svg)"
   ]
  },
  {
   "attachments": {},
   "cell_type": "markdown",
   "metadata": {},
   "source": [
    "## WORD2VEC Application"
   ]
  },
  {
   "attachments": {},
   "cell_type": "markdown",
   "metadata": {},
   "source": [
    "### Libraries"
   ]
  },
  {
   "cell_type": "code",
   "execution_count": 406,
   "metadata": {},
   "outputs": [],
   "source": [
    "import gensim\n",
    "from gensim.models import word2vec\n",
    "import nltk\n",
    "from nltk.tokenize import sent_tokenize, word_tokenize\n",
    "import gensim.downloader as api\n",
    "import numpy as np\n",
    "from urllib.request import urlopen\n",
    "import re\n",
    "from nltk.corpus import stopwords\n",
    "import pandas as pd\n",
    "\n"
   ]
  },
  {
   "attachments": {},
   "cell_type": "markdown",
   "metadata": {},
   "source": [
    "### Importing the data\n"
   ]
  },
  {
   "cell_type": "code",
   "execution_count": 407,
   "metadata": {},
   "outputs": [],
   "source": [
    "\n",
    "def data_tokenizer(url, language, encoding = 'utf-8'):\n",
    "    with urlopen(url) as file:\n",
    "        divine_comedy = file.read().decode(encoding)\n",
    "\n",
    "    f = divine_comedy.replace(\"\\n\", \" \")    \n",
    "    f = re.sub(r'[^\\w\\s]', '', f)\n",
    "    data = []\n",
    "    for i in sent_tokenize(f):\n",
    "        temp = []\n",
    "     \n",
    "    # tokenize the sentence into words\n",
    "        for j in word_tokenize(i):\n",
    "            temp.append(j.lower())\n",
    " \n",
    "        data.append(temp)\n",
    "\n",
    "    stop_words = set(stopwords.words(language))\n",
    "    stopped = [[i for i in j if i not in stop_words] for j in data]\n",
    "    return stopped\n",
    " "
   ]
  },
  {
   "cell_type": "code",
   "execution_count": 408,
   "metadata": {},
   "outputs": [],
   "source": [
    "english = data_tokenizer('https://www.gutenberg.org/files/8800/8800-0.txt','english')\n",
    "spanish = data_tokenizer('https://www.gutenberg.org/cache/epub/57303/pg57303.txt','spanish')\n",
    "finnish = data_tokenizer('https://www.gutenberg.org/cache/epub/10941/pg10941.txt','finnish')"
   ]
  },
  {
   "cell_type": "code",
   "execution_count": 409,
   "metadata": {},
   "outputs": [],
   "source": [
    "def w2v(language):\n",
    "    return gensim.models.Word2Vec(language, min_count = 1,\n",
    "                              vector_size = 100, window = 5).wv"
   ]
  },
  {
   "cell_type": "code",
   "execution_count": 410,
   "metadata": {},
   "outputs": [],
   "source": [
    "eng_model = w2v(english)\n",
    "spa_model = w2v(spanish)\n",
    "finn_model = w2v(finnish)"
   ]
  },
  {
   "cell_type": "code",
   "execution_count": 411,
   "metadata": {},
   "outputs": [
    {
     "name": "stdout",
     "output_type": "stream",
     "text": [
      "['thou', 'thy', 'one', 'thus', 'thee', 'yet', 'us', 'may', 'hath', 'first']\n",
      "['si', 'tan', 'así', 'hacia', 'aquel', 'después', 'pues', 'aquí', 'modo', 'ojos']\n",
      "['ma', 'mi', 'the', 'mut', 'näin', 'sa', 'of', 'mun', 'jo', 'mua']\n"
     ]
    }
   ],
   "source": [
    "print(eng_model.index_to_key[:10])\n",
    "print(spa_model.index_to_key[:10])\n",
    "print(finn_model.index_to_key[:10])"
   ]
  },
  {
   "cell_type": "code",
   "execution_count": 412,
   "metadata": {},
   "outputs": [
    {
     "data": {
      "text/plain": [
       "[('unfolds', 0.3734283447265625),\n",
       " ('faultering', 0.36855417490005493),\n",
       " ('hastend', 0.36685967445373535),\n",
       " ('lording', 0.3666694164276123),\n",
       " ('drives', 0.35370489954948425),\n",
       " ('lighteth', 0.35342586040496826),\n",
       " ('virus', 0.3429449796676636),\n",
       " ('deceived', 0.3338145911693573),\n",
       " ('renews', 0.32927262783050537),\n",
       " ('adamant', 0.32708263397216797)]"
      ]
     },
     "execution_count": 412,
     "metadata": {},
     "output_type": "execute_result"
    }
   ],
   "source": [
    "eng_model.most_similar('virgil')"
   ]
  },
  {
   "cell_type": "code",
   "execution_count": 413,
   "metadata": {},
   "outputs": [
    {
     "name": "stdout",
     "output_type": "stream",
     "text": [
      "[('unfolds', 0.3734283447265625), ('faultering', 0.36855417490005493), ('hastend', 0.36685967445373535), ('lording', 0.3666694164276123), ('drives', 0.35370489954948425), ('lighteth', 0.35342586040496826), ('virus', 0.3429449796676636), ('deceived', 0.3338145911693573), ('renews', 0.32927262783050537), ('adamant', 0.32708263397216797)]\n"
     ]
    }
   ],
   "source": [
    "virgil = eng_model.most_similar('virgil')\n",
    "print(virgil)"
   ]
  },
  {
   "cell_type": "code",
   "execution_count": 414,
   "metadata": {},
   "outputs": [
    {
     "name": "stdout",
     "output_type": "stream",
     "text": [
      "[('endrino', 0.34873276948928833), ('fácilmente', 0.34670668840408325), ('ein', 0.34319353103637695), ('guiarlo', 0.3390248119831085), ('sabiendo', 0.3371031582355499), ('cefas', 0.33437660336494446), ('hilaridad', 0.33384791016578674), ('revoluciones', 0.33092066645622253), ('gustar', 0.3160332143306732), ('disipó', 0.315613716840744)]\n"
     ]
    }
   ],
   "source": [
    "virgilio = spa_model.most_similar('virgilio')\n",
    "print(virgilio)"
   ]
  },
  {
   "cell_type": "code",
   "execution_count": 415,
   "metadata": {},
   "outputs": [
    {
     "name": "stdout",
     "output_type": "stream",
     "text": [
      "[('vihattavampi', 0.35653144121170044), ('oikeahan', 0.33926820755004883), ('saastainen', 0.33610737323760986), ('hietaa', 0.3302060663700104), ('harjaa', 0.3231929838657379), ('katso', 0.31891322135925293), ('uuvuttakoon', 0.31860682368278503), ('ghibelliinisukuja', 0.3171890377998352), ('selittäkää', 0.31103986501693726), ('johtajalleen', 0.3078393042087555)]\n"
     ]
    }
   ],
   "source": [
    "vergilius = finn_model.most_similar('vergilius')\n",
    "print(vergilius)"
   ]
  },
  {
   "cell_type": "code",
   "execution_count": 416,
   "metadata": {},
   "outputs": [],
   "source": [
    "import matplotlib.pyplot as plt\n",
    "from sklearn.decomposition import PCA\n",
    "\n",
    "def model_pca(model):\n",
    "    vocab = list(model.index_to_key[:200])\n",
    "    vectors = model[vocab]\n",
    "    pca = PCA(n_components=2)\n",
    "    vectors_2d = pca.fit_transform(vectors)\n",
    "    return vectors_2d\n",
    "    "
   ]
  },
  {
   "cell_type": "code",
   "execution_count": 417,
   "metadata": {},
   "outputs": [],
   "source": [
    "eng_pca = model_pca(eng_model)\n",
    "spa_pca = model_pca(spa_model)\n",
    "finn_pca = model_pca(finn_model)"
   ]
  },
  {
   "cell_type": "code",
   "execution_count": 418,
   "metadata": {},
   "outputs": [
    {
     "data": {
      "image/png": "[encoded data removed]",
      "text/plain": [
       "<Figure size 1440x720 with 1 Axes>"
      ]
     },
     "metadata": {
      "needs_background": "light"
     },
     "output_type": "display_data"
    }
   ],
   "source": [
    "\n",
    "def plot(model, color = 'blue'):\n",
    "    plt.xlim(left = -0.03, right = 0.04)\n",
    "    plt.scatter(model[:, 0], model[:, 1], marker=\".\",c= color)\n",
    "plt.figure(figsize=(20,10))\n",
    "plot(eng_pca,'blue')\n",
    "plot(spa_pca,'red')\n",
    "plot(finn_pca,'green')\n",
    "plt.show()"
   ]
  },
  {
   "cell_type": "code",
   "execution_count": 419,
   "metadata": {},
   "outputs": [],
   "source": [
    "from sklearn.decomposition import IncrementalPCA    # inital reduction\n",
    "from sklearn.manifold import TSNE                   # final reduction\n",
    "import numpy as np              \n",
    "def tsne_fit(model):\n",
    "    tsne = TSNE(n_components=2, random_state=0)\n",
    "    vectors = tsne.fit_transform(model)\n",
    "\n",
    "    x_vals = [v[0] for v in vectors]\n",
    "    y_vals = [v[1] for v in vectors]\n",
    "    return x_vals, y_vals"
   ]
  },
  {
   "cell_type": "code",
   "execution_count": null,
   "metadata": {},
   "outputs": [],
   "source": []
  },
  {
   "cell_type": "code",
   "execution_count": 420,
   "metadata": {},
   "outputs": [],
   "source": [
    "x_eng,y_eng = tsne_fit(eng_pca)\n",
    "x_spa,y_spa = tsne_fit(spa_pca)\n",
    "x_finn,y_finn = tsne_fit(finn_pca)"
   ]
  },
  {
   "cell_type": "code",
   "execution_count": 421,
   "metadata": {},
   "outputs": [],
   "source": [
    "def plot_function(x_vals, y_vals,color):\n",
    " plt.scatter(x_vals, y_vals, c= color)\n"
   ]
  },
  {
   "cell_type": "code",
   "execution_count": 422,
   "metadata": {},
   "outputs": [
    {
     "data": {
      "image/png": "[encoded data removed]",
      "text/plain": [
       "<Figure size 1440x720 with 1 Axes>"
      ]
     },
     "metadata": {
      "needs_background": "light"
     },
     "output_type": "display_data"
    }
   ],
   "source": [
    "plt.figure(figsize=(20,10))\n",
    "plot_function(x_eng, y_eng,'blue')\n",
    "plot_function(x_spa,y_spa,'red')\n",
    "plot_function(x_finn,y_finn,'green')\n",
    "\n",
    "plt.show()"
   ]
  }
 ],
 "metadata": {
  "kernelspec": {
   "display_name": "base",
   "language": "python",
   "name": "python3"
  },
  "language_info": {
   "codemirror_mode": {
    "name": "ipython",
    "version": 3
   },
   "file_extension": ".py",
   "mimetype": "text/x-python",
   "name": "python",
   "nbconvert_exporter": "python",
   "pygments_lexer": "ipython3",
   "version": "3.9.12"
  },
  "orig_nbformat": 4,
  "vscode": {
   "interpreter": {
    "hash": "c28da407b5413b3940d87ecdae5ea8ce0c2929d84f560e9f5daaaa2573d53e68"
   }
  }
 },
 "nbformat": 4,
 "nbformat_minor": 2
}
